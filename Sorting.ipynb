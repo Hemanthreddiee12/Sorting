{
  "nbformat": 4,
  "nbformat_minor": 0,
  "metadata": {
    "colab": {
      "provenance": []
    },
    "kernelspec": {
      "name": "python3",
      "display_name": "Python 3"
    },
    "language_info": {
      "name": "python"
    }
  },
  "cells": [
    {
      "cell_type": "code",
      "execution_count": 3,
      "metadata": {
        "colab": {
          "base_uri": "https://localhost:8080/"
        },
        "id": "0Niif3icFBIg",
        "outputId": "88150b54-c85e-4a3e-b1ce-87d34f73a8cc"
      },
      "outputs": [
        {
          "output_type": "stream",
          "name": "stdout",
          "text": [
            "Sorted array:\n",
            "11\n",
            "12\n",
            "22\n",
            "25\n",
            "34\n",
            "64\n",
            "90\n"
          ]
        }
      ],
      "source": [
        "#Bubble Sort\n",
        "\n",
        "def bubbleSort(arr):\n",
        "\tn = len(arr)\n",
        "\n",
        "\tfor i in range(n):\n",
        "\t\tswapped = False\n",
        "\n",
        "\t\tfor j in range(0, n-i-1):\n",
        "\n",
        "\t\t\tif arr[j] > arr[j+1]:\n",
        "\t\t\t\tarr[j], arr[j+1] = arr[j+1], arr[j]\n",
        "\t\t\t\tswapped = True\n",
        "\t\tif (swapped == False):\n",
        "\t\t\tbreak\n",
        "\n",
        "if __name__ == \"__main__\":\n",
        "\tarr = [64, 34, 25, 12, 22, 11, 90]\n",
        "\n",
        "\tbubbleSort(arr)\n",
        "\n",
        "\tprint(\"Sorted array:\")\n",
        "\tfor i in range(len(arr)):\n",
        "\t\tprint(\"%d\" % arr[i], end=\" \")\n"
      ]
    },
    {
      "cell_type": "code",
      "source": [
        "# Insertion Sort\n",
        "\n",
        "def insertionSort(arr):\n",
        "\tfor i in range(1, len(arr)):\n",
        "\n",
        "\t\tkey = arr[i]\n",
        "\n",
        "\t\tj = i-1\n",
        "\t\twhile j >= 0 and key < arr[j] :\n",
        "\t\t\t\tarr[j + 1] = arr[j]\n",
        "\t\t\t\tj -= 1\n",
        "\t\tarr[j + 1] = key\n",
        "\n",
        "arr = [64, 34, 25, 12, 22, 11, 90]\n",
        "insertionSort(arr)\n",
        "for i in range(len(arr)):\n",
        "\tprint (\"% d\" % arr[i])\n"
      ],
      "metadata": {
        "colab": {
          "base_uri": "https://localhost:8080/"
        },
        "id": "GyFF4VLLFupY",
        "outputId": "8d39a2f5-ea3a-4a9a-965b-3433c429344e"
      },
      "execution_count": 15,
      "outputs": [
        {
          "output_type": "stream",
          "name": "stdout",
          "text": [
            " 11\n",
            " 12\n",
            " 22\n",
            " 25\n",
            " 34\n",
            " 64\n",
            " 90\n"
          ]
        }
      ]
    },
    {
      "cell_type": "code",
      "source": [
        "# Selection Sort\n",
        "\n",
        "import sys\n",
        "A = [64, 34, 25, 12, 22, 11, 90]\n",
        "\n",
        "for i in range(len(A)):\n",
        "\n",
        "\t# unsorted array\n",
        "\tmin_idx = i\n",
        "\tfor j in range(i+1, len(A)):\n",
        "\t\tif A[min_idx] > A[j]:\n",
        "\t\t\tmin_idx = j\n",
        "\n",
        "\n",
        "\tA[i], A[min_idx] = A[min_idx], A[i]\n",
        "\n",
        "print (\"Sorted array\")\n",
        "for i in range(len(A)):\n",
        "\tprint(\"%d\" %A[i])\n"
      ],
      "metadata": {
        "colab": {
          "base_uri": "https://localhost:8080/"
        },
        "id": "akrk1sxxR6Up",
        "outputId": "a17563d4-e666-4aeb-bb9b-58dbfca87119"
      },
      "execution_count": 16,
      "outputs": [
        {
          "output_type": "stream",
          "name": "stdout",
          "text": [
            "Sorted array\n",
            "11\n",
            "12\n",
            "22\n",
            "25\n",
            "34\n",
            "64\n",
            "90\n"
          ]
        }
      ]
    },
    {
      "cell_type": "code",
      "source": [
        "# Radix Sort\n",
        "\n",
        "def countingSort(arr, exp1):\n",
        "\tn = len(arr)\n",
        "\toutput = [0] * (n)\n",
        "\tcount = [0] * (10)\n",
        "\n",
        "\tfor i in range(0, n):\n",
        "\t\tindex = arr[i] // exp1\n",
        "\t\tcount[index % 10] += 1\n",
        "\n",
        "\tfor i in range(1, 10):\n",
        "\t\tcount[i] += count[i - 1]\n",
        "\n",
        "\ti = n - 1\n",
        "\twhile i >= 0:\n",
        "\t\tindex = arr[i] // exp1\n",
        "\t\toutput[count[index % 10] - 1] = arr[i]\n",
        "\t\tcount[index % 10] -= 1\n",
        "\t\ti -= 1\n",
        "\n",
        "\ti = 0\n",
        "\tfor i in range(0, len(arr)):\n",
        "\t\tarr[i] = output[i]\n",
        "\n",
        "def radixSort(arr):\n",
        "\tmax1 = max(arr)\n",
        "\texp = 1\n",
        "\twhile max1 / exp >= 1:\n",
        "\t\tcountingSort(arr, exp)\n",
        "\t\texp *= 10\n",
        "arr = [170, 45, 75, 90, 802, 24, 2, 66]\n",
        "radixSort(arr)\n",
        "\n",
        "for i in range(len(arr)):\n",
        "\tprint(arr[i])\n"
      ],
      "metadata": {
        "colab": {
          "base_uri": "https://localhost:8080/"
        },
        "id": "mrmiAPD5TOvl",
        "outputId": "9690b737-24b3-4088-b05c-8d698b75f1d6"
      },
      "execution_count": 17,
      "outputs": [
        {
          "output_type": "stream",
          "name": "stdout",
          "text": [
            "2\n",
            "24\n",
            "45\n",
            "66\n",
            "75\n",
            "90\n",
            "170\n",
            "802\n"
          ]
        }
      ]
    },
    {
      "cell_type": "code",
      "source": [
        "# Merge Sort\n",
        "\n",
        "def mergeSort(arr):\n",
        "\tif len(arr) > 1:\n",
        "\t\tmid = len(arr)//2\n",
        "\t\tL = arr[:mid]\n",
        "\t\tR = arr[mid:]\n",
        "\t\tmergeSort(L)\n",
        "\t\tmergeSort(R)\n",
        "\n",
        "\t\ti = j = k = 0\n",
        "\n",
        "\t\twhile i < len(L) and j < len(R):\n",
        "\t\t\tif L[i] <= R[j]:\n",
        "\t\t\t\tarr[k] = L[i]\n",
        "\t\t\t\ti += 1\n",
        "\t\t\telse:\n",
        "\t\t\t\tarr[k] = R[j]\n",
        "\t\t\t\tj += 1\n",
        "\t\t\tk += 1\n",
        "\n",
        "\t\twhile i < len(L):\n",
        "\t\t\tarr[k] = L[i]\n",
        "\t\t\ti += 1\n",
        "\t\t\tk += 1\n",
        "\n",
        "\t\twhile j < len(R):\n",
        "\t\t\tarr[k] = R[j]\n",
        "\t\t\tj += 1\n",
        "\t\t\tk += 1\n",
        "\n",
        "\n",
        "def printList(arr):\n",
        "\tfor i in range(len(arr)):\n",
        "\t\tprint(arr[i], end=\" \")\n",
        "\tprint()\n",
        "\n",
        "\n",
        "if __name__ == '__main__':\n",
        "\tarr = [12, 11, 13, 5, 6, 7]\n",
        "\tprint(\"Given array is\")\n",
        "\tprintList(arr)\n",
        "\tmergeSort(arr)\n",
        "\tprint(\"\\nSorted array is \")\n",
        "\tprintList(arr)\n"
      ],
      "metadata": {
        "colab": {
          "base_uri": "https://localhost:8080/"
        },
        "id": "QVsUHTg4T4Sx",
        "outputId": "4cda14f9-c8b4-4919-8168-13fee0cee36d"
      },
      "execution_count": 11,
      "outputs": [
        {
          "output_type": "stream",
          "name": "stdout",
          "text": [
            "Given array is\n",
            "12 11 13 5 6 7 \n",
            "\n",
            "Sorted array is \n",
            "5 6 7 11 12 13 \n"
          ]
        }
      ]
    },
    {
      "cell_type": "code",
      "source": [
        "import time\n",
        "import random\n",
        "A = [random.randint(1, 100) for _ in range(100)]\n",
        "print(\"randommly generated array\",A)\n",
        "\n",
        "\n",
        "start_time = time.time()\n",
        "\n",
        "swaps = 0\n",
        "for i in range(len(A)):\n",
        "    min_idx = i\n",
        "    for j in range(i + 1, len(A)):\n",
        "        if A[min_idx] > A[j]:\n",
        "            min_idx = j\n",
        "            swaps += 1\n",
        "\n",
        "    A[i], A[min_idx] = A[min_idx], A[i]\n",
        "\n",
        "end_time = time.time()\n",
        "print(\"Sorted array:\")\n",
        "for i in range(len(A)):\n",
        "    print(\"%d\" % A[i], end=\", \")\n",
        "\n",
        "print(\"\\nExecution Time: %.8f seconds\" % (end_time - start_time))\n",
        "print(\"Number of Swaps: %d\" % swaps)\n",
        "\n"
      ],
      "metadata": {
        "colab": {
          "base_uri": "https://localhost:8080/"
        },
        "id": "3tOOmHYlVXJS",
        "outputId": "ad34f1b6-00f1-46a9-e4de-cd7ac312c78e"
      },
      "execution_count": 18,
      "outputs": [
        {
          "output_type": "stream",
          "name": "stdout",
          "text": [
            "randommly generated array [31, 52, 3, 26, 40, 40, 57, 23, 95, 94, 67, 13, 33, 80, 17, 40, 23, 8, 75, 60, 12, 46, 3, 9, 76, 94, 91, 9, 78, 33, 38, 18, 61, 45, 4, 98, 6, 95, 30, 42, 27, 28, 8, 92, 15, 45, 77, 19, 86, 100, 91, 8, 51, 15, 30, 32, 56, 7, 37, 67, 51, 96, 40, 65, 44, 74, 79, 59, 51, 41, 1, 90, 90, 53, 64, 47, 25, 56, 43, 7, 39, 72, 95, 33, 75, 23, 48, 7, 31, 6, 83, 77, 44, 98, 74, 46, 99, 33, 52, 70]\n",
            "Sorted array:\n",
            "1, 3, 3, 4, 6, 6, 7, 7, 7, 8, 8, 8, 9, 9, 12, 13, 15, 15, 17, 18, 19, 23, 23, 23, 25, 26, 27, 28, 30, 30, 31, 31, 32, 33, 33, 33, 33, 37, 38, 39, 40, 40, 40, 40, 41, 42, 43, 44, 44, 45, 45, 46, 46, 47, 48, 51, 51, 51, 52, 52, 53, 56, 56, 57, 59, 60, 61, 64, 65, 67, 67, 70, 72, 74, 74, 75, 75, 76, 77, 77, 78, 79, 80, 83, 86, 90, 90, 91, 91, 92, 94, 94, 95, 95, 95, 96, 98, 98, 99, 100, \n",
            "Execution Time: 0.00093699 seconds\n",
            "Number of Swaps: 284\n"
          ]
        }
      ]
    },
    {
      "cell_type": "code",
      "source": [
        "\n",
        "import time\n",
        "import random\n",
        "A = [random.randint(1, 100) for _ in range(100)]\n",
        "print(\"Randomly generated array:\", A)\n",
        "\n",
        "start_time = time.time()\n",
        "\n",
        "swaps = 0\n",
        "\n",
        "\n",
        "for i in range(len(A)):\n",
        "    for j in range(0, len(A)-i-1):\n",
        "        if A[j] > A[j+1]:\n",
        "            A[j], A[j+1] = A[j+1], A[j]\n",
        "            swaps += 1\n",
        "\n",
        "end_time = time.time()\n",
        "\n",
        "print(\"Sorted array:\")\n",
        "for i in range(len(A)):\n",
        "    print(\"%d\" % A[i], end=\", \")\n",
        "\n",
        "print(\"\\nExecution Time: %.8f seconds\" % (end_time - start_time))\n",
        "print(\"Number of Swaps: %d\" % swaps)\n"
      ],
      "metadata": {
        "colab": {
          "base_uri": "https://localhost:8080/"
        },
        "id": "NdtZVAA3VbcG",
        "outputId": "6ee216fa-a369-42c6-fcb0-402b26259d49"
      },
      "execution_count": 19,
      "outputs": [
        {
          "output_type": "stream",
          "name": "stdout",
          "text": [
            "Randomly generated array: [55, 82, 82, 41, 73, 9, 47, 100, 71, 88, 43, 49, 39, 17, 2, 7, 78, 96, 20, 24, 54, 37, 8, 37, 39, 96, 66, 86, 58, 54, 69, 76, 96, 82, 30, 88, 52, 64, 18, 19, 100, 97, 16, 66, 2, 97, 7, 58, 78, 98, 13, 51, 71, 40, 35, 91, 44, 13, 73, 13, 34, 70, 76, 36, 4, 46, 94, 95, 1, 27, 84, 53, 4, 15, 84, 35, 30, 29, 21, 34, 47, 12, 39, 81, 17, 41, 10, 85, 27, 91, 86, 81, 12, 69, 83, 79, 1, 83, 36, 65]\n",
            "Sorted array:\n",
            "1, 1, 2, 2, 4, 4, 7, 7, 8, 9, 10, 12, 12, 13, 13, 13, 15, 16, 17, 17, 18, 19, 20, 21, 24, 27, 27, 29, 30, 30, 34, 34, 35, 35, 36, 36, 37, 37, 39, 39, 39, 40, 41, 41, 43, 44, 46, 47, 47, 49, 51, 52, 53, 54, 54, 55, 58, 58, 64, 65, 66, 66, 69, 69, 70, 71, 71, 73, 73, 76, 76, 78, 78, 79, 81, 81, 82, 82, 82, 83, 83, 84, 84, 85, 86, 86, 88, 88, 91, 91, 94, 95, 96, 96, 96, 97, 97, 98, 100, 100, \n",
            "Execution Time: 0.00174212 seconds\n",
            "Number of Swaps: 2600\n"
          ]
        }
      ]
    },
    {
      "cell_type": "code",
      "source": [
        "import random\n",
        "array1= [random.randint(1, 100) for _ in range(100)]\n",
        "\n",
        "start_time = time.time()\n",
        "array1.sort()\n",
        "end_time = time.time()\n",
        "print(array1)\n",
        "print(\"\\nExecution Time: %.8f seconds\" % (end_time - start_time))"
      ],
      "metadata": {
        "colab": {
          "base_uri": "https://localhost:8080/"
        },
        "id": "caDORmHDVewI",
        "outputId": "32ea3c73-d560-4ca5-fa5c-a0c767c000bc"
      },
      "execution_count": 14,
      "outputs": [
        {
          "output_type": "stream",
          "name": "stdout",
          "text": [
            "[1, 2, 5, 6, 6, 8, 8, 10, 10, 11, 11, 11, 12, 13, 14, 14, 14, 15, 15, 16, 16, 16, 16, 17, 19, 19, 20, 21, 21, 21, 23, 26, 27, 28, 29, 30, 31, 32, 33, 35, 35, 36, 38, 38, 38, 40, 40, 43, 43, 45, 46, 46, 48, 49, 50, 50, 52, 53, 56, 57, 57, 58, 58, 58, 62, 63, 66, 69, 69, 69, 69, 69, 70, 70, 73, 74, 75, 76, 77, 78, 78, 78, 80, 81, 82, 82, 83, 84, 85, 86, 87, 88, 89, 89, 89, 94, 95, 97, 97, 100]\n",
            "\n",
            "Execution Time: 0.00004697 seconds\n"
          ]
        }
      ]
    }
  ]
}